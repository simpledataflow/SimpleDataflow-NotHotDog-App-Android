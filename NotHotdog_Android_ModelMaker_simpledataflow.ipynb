{
  "nbformat": 4,
  "nbformat_minor": 0,
  "metadata": {
    "colab": {
      "name": "NotHotdog_Android_ModelMaker-simpledataflow.ipynb",
      "provenance": [],
      "toc_visible": true,
      "authorship_tag": "ABX9TyPe3FdH8ATrh96MTFaFRwXj",
      "include_colab_link": true
    },
    "kernelspec": {
      "name": "python3",
      "display_name": "Python 3"
    }
  },
  "cells": [
    {
      "cell_type": "markdown",
      "metadata": {
        "id": "view-in-github",
        "colab_type": "text"
      },
      "source": [
        "<a href=\"https://colab.research.google.com/github/simpledataflow/SimpleDataflow-NotHotDog-App-Android/blob/master/NotHotdog_Android_ModelMaker_simpledataflow.ipynb\" target=\"_parent\"><img src=\"https://colab.research.google.com/assets/colab-badge.svg\" alt=\"Open In Colab\"/></a>"
      ]
    },
    {
      "cell_type": "markdown",
      "metadata": {
        "id": "FkjwtrShvgn_",
        "colab_type": "text"
      },
      "source": [
        "Here we will create a \"Not hotdog\" image classifier with Tensorflow Model maker\n",
        "\n",
        "PS: **You can also do it on your local machine**. The Colab is constantly updating its depenendecies so if you run into problems then download this notebook on your machine and execute it locally.\n"
      ]
    },
    {
      "cell_type": "markdown",
      "metadata": {
        "id": "c7Nxp_MYwb9U",
        "colab_type": "text"
      },
      "source": [
        "###Step 1\n",
        " Dowload the dataset and unzip it. It is available here:\n",
        "https://drive.google.com/file/d/1Cyii4T7zhg-a6uABDw3rqm1qbR_PhVJ8/view?usp=sharing \n",
        "\n",
        "*PS: the dataset is taken from Kaggle (https://www.kaggle.com/dansbecker/hot-dog-not-hot-dog/data)"
      ]
    },
    {
      "cell_type": "markdown",
      "metadata": {
        "id": "EqHlcAsj2Pp_",
        "colab_type": "text"
      },
      "source": [
        "###Step 2\n",
        "Upload dataset to colab using the left pane\n",
        "<br> The structure should look like this\n",
        "<br>\n",
        "---hot_dog_photos\n",
        "<br>\n",
        "------hot_dog\n",
        "  <br>\n",
        "  ------not_hot_dog\n"
      ]
    },
    {
      "cell_type": "markdown",
      "metadata": {
        "id": "CPUGb6xT6VNC",
        "colab_type": "text"
      },
      "source": [
        "### Step 3\n",
        "Install the necessary dependencies (it might ask you to restart the runtime afterwards).\n",
        "It uses a forked version of github repository https://github.com/tensorflow/examples"
      ]
    },
    {
      "cell_type": "code",
      "metadata": {
        "id": "u4gayGvg20WU",
        "colab_type": "code",
        "colab": {}
      },
      "source": [
        "!pip install git+git://github.com/simpledataflow/examples.git#egg=tensorflow-examples[model_maker]"
      ],
      "execution_count": 0,
      "outputs": []
    },
    {
      "cell_type": "code",
      "metadata": {
        "id": "emx03ArNUzMF",
        "colab_type": "code",
        "colab": {}
      },
      "source": [
        "# if it does not work try this one\n",
        "!pip install git+git://github.com/tensorflow/examples.git#egg=tensorflow-examples[model_maker]"
      ],
      "execution_count": 0,
      "outputs": []
    },
    {
      "cell_type": "markdown",
      "metadata": {
        "id": "vqheV7LD89-z",
        "colab_type": "text"
      },
      "source": [
        "### Step 4\n",
        "Import dependencies into this notebook"
      ]
    },
    {
      "cell_type": "code",
      "metadata": {
        "id": "DDs58IQh2tax",
        "colab_type": "code",
        "outputId": "1f698961-ee1d-4389-d2fd-da3708616cb6",
        "colab": {
          "base_uri": "https://localhost:8080/",
          "height": 34
        }
      },
      "source": [
        "import numpy as np\n",
        "\n",
        "import tensorflow as tf\n",
        "assert tf.__version__.startswith('2')\n",
        "\n",
        "from tensorflow_examples.lite.model_maker.core.data_util.image_dataloader import ImageClassifierDataLoader\n",
        "from tensorflow_examples.lite.model_maker.core.task import image_classifier"
      ],
      "execution_count": 0,
      "outputs": [
        {
          "output_type": "stream",
          "text": [
            "WARNING:tensorflow:Needs to install tflite-support package.\n"
          ],
          "name": "stdout"
        }
      ]
    },
    {
      "cell_type": "markdown",
      "metadata": {
        "id": "WWHFI5Fl9FYm",
        "colab_type": "text"
      },
      "source": [
        "### Step 5\n",
        "Defining the path to the data"
      ]
    },
    {
      "cell_type": "code",
      "metadata": {
        "id": "T5AtIqK7vrSK",
        "colab_type": "code",
        "colab": {}
      },
      "source": [
        "image_path = 'hot_dog_photos'"
      ],
      "execution_count": 0,
      "outputs": []
    },
    {
      "cell_type": "code",
      "metadata": {
        "id": "jmErVtUMGUww",
        "colab_type": "code",
        "outputId": "611bb81d-d887-480d-d89a-9610530de6ad",
        "colab": {
          "base_uri": "https://localhost:8080/",
          "height": 104
        }
      },
      "source": [
        "# Remove some clutter\n",
        "!cd hot_dog_photos && rm -rf .ipynb_checkpoints && ls -la"
      ],
      "execution_count": 0,
      "outputs": [
        {
          "output_type": "stream",
          "text": [
            "total 32\n",
            "drwxr-xr-x 4 root root  4096 Apr 19 11:03 .\n",
            "drwxr-xr-x 1 root root  4096 Apr 19 11:01 ..\n",
            "drwxr-xr-x 2 root root 12288 Apr 19 11:02 hot_dog\n",
            "drwxr-xr-x 2 root root 12288 Apr 19 11:03 not_hot_dog\n"
          ],
          "name": "stdout"
        }
      ]
    },
    {
      "cell_type": "markdown",
      "metadata": {
        "id": "JHJSSLc09Ulx",
        "colab_type": "text"
      },
      "source": [
        "### Step 6\n",
        "Splitting data to train and test datasets. 90% for training, 10% for validating afterwards"
      ]
    },
    {
      "cell_type": "code",
      "metadata": {
        "id": "mqxcBKxC3qJ0",
        "colab_type": "code",
        "outputId": "3344b5b6-e266-4127-919c-9e5762ca9b22",
        "colab": {
          "base_uri": "https://localhost:8080/",
          "height": 34
        }
      },
      "source": [
        "data = ImageClassifierDataLoader.from_folder(image_path)\n",
        "train_data, test_data = data.split(0.9)"
      ],
      "execution_count": 0,
      "outputs": [
        {
          "output_type": "stream",
          "text": [
            "INFO:tensorflow:Load image with size: 496, num_label: 2, labels: hot_dog, not_hot_dog.\n"
          ],
          "name": "stdout"
        }
      ]
    },
    {
      "cell_type": "markdown",
      "metadata": {
        "id": "YoCPIrMJ9g3F",
        "colab_type": "text"
      },
      "source": [
        "### Step 7 \n",
        "Creating and training the model"
      ]
    },
    {
      "cell_type": "code",
      "metadata": {
        "id": "4AvLXp1V50V8",
        "colab_type": "code",
        "outputId": "5e942317-accd-4cf2-f47b-5af3899e0ade",
        "colab": {
          "base_uri": "https://localhost:8080/",
          "height": 486
        }
      },
      "source": [
        "model = image_classifier.create(train_data)"
      ],
      "execution_count": 0,
      "outputs": [
        {
          "output_type": "stream",
          "text": [
            "Model: \"sequential\"\n",
            "_________________________________________________________________\n",
            "Layer (type)                 Output Shape              Param #   \n",
            "=================================================================\n",
            "hub_keras_layer_v1v2 (HubKer (None, 1280)              3413024   \n",
            "_________________________________________________________________\n",
            "dropout (Dropout)            (None, 1280)              0         \n",
            "_________________________________________________________________\n",
            "dense (Dense)                (None, 2)                 2562      \n",
            "=================================================================\n",
            "Total params: 3,415,586\n",
            "Trainable params: 2,562\n",
            "Non-trainable params: 3,413,024\n",
            "_________________________________________________________________\n",
            "None\n",
            "INFO:tensorflow:Retraining the models...\n"
          ],
          "name": "stdout"
        },
        {
          "output_type": "stream",
          "text": [
            "INFO:tensorflow:Retraining the models...\n"
          ],
          "name": "stderr"
        },
        {
          "output_type": "stream",
          "text": [
            "Epoch 1/5\n",
            "13/13 [==============================] - 18s 1s/step - loss: 0.5873 - accuracy: 0.7043\n",
            "Epoch 2/5\n",
            "13/13 [==============================] - 18s 1s/step - loss: 0.3731 - accuracy: 0.9062\n",
            "Epoch 3/5\n",
            "13/13 [==============================] - 18s 1s/step - loss: 0.3262 - accuracy: 0.9375\n",
            "Epoch 4/5\n",
            "13/13 [==============================] - 17s 1s/step - loss: 0.3131 - accuracy: 0.9471\n",
            "Epoch 5/5\n",
            "13/13 [==============================] - 18s 1s/step - loss: 0.3053 - accuracy: 0.9519\n"
          ],
          "name": "stdout"
        }
      ]
    },
    {
      "cell_type": "markdown",
      "metadata": {
        "id": "kd40a7Ih9rS8",
        "colab_type": "text"
      },
      "source": [
        "### Step 8\n",
        "Validating the model. As we can see accuracy metric is pretty high."
      ]
    },
    {
      "cell_type": "code",
      "metadata": {
        "id": "rB3xCf8S53VW",
        "colab_type": "code",
        "outputId": "d4a3e7d2-d4fa-4839-ba44-e0b4fd082cd4",
        "colab": {
          "base_uri": "https://localhost:8080/",
          "height": 34
        }
      },
      "source": [
        "loss, accuracy = model.evaluate(test_data)"
      ],
      "execution_count": 0,
      "outputs": [
        {
          "output_type": "stream",
          "text": [
            "2/2 [==============================] - 1s 377ms/step - loss: 0.3400 - accuracy: 0.9200\n"
          ],
          "name": "stdout"
        }
      ]
    },
    {
      "cell_type": "markdown",
      "metadata": {
        "id": "2QUjq29O94Ki",
        "colab_type": "text"
      },
      "source": [
        "### Step 9\n",
        "Exporting the model.\n",
        "\n",
        "After running the cell download labels.txt and model.tflite files using the left pane"
      ]
    },
    {
      "cell_type": "code",
      "metadata": {
        "id": "IuTwN4dZ59Ft",
        "colab_type": "code",
        "outputId": "7f37c3fe-5f59-43ad-9706-44672b08e52f",
        "colab": {
          "base_uri": "https://localhost:8080/",
          "height": 86
        }
      },
      "source": [
        "model.export('model.tflite', 'labels.txt')"
      ],
      "execution_count": 0,
      "outputs": [
        {
          "output_type": "stream",
          "text": [
            "INFO:tensorflow:Export to tflite model in model.tflite.\n"
          ],
          "name": "stdout"
        },
        {
          "output_type": "stream",
          "text": [
            "INFO:tensorflow:Export to tflite model in model.tflite.\n"
          ],
          "name": "stderr"
        },
        {
          "output_type": "stream",
          "text": [
            "INFO:tensorflow:Saved labels in labels.txt.\n"
          ],
          "name": "stdout"
        },
        {
          "output_type": "stream",
          "text": [
            "INFO:tensorflow:Saved labels in labels.txt.\n"
          ],
          "name": "stderr"
        }
      ]
    }
  ]
}